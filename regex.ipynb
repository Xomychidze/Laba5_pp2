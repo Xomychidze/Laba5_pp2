{
 "cells": [
  {
   "cell_type": "markdown",
   "metadata": {},
   "source": [
    "1. Write a Python program that matches a string that has an `'a'` followed by zero or more `'b'`'s."
   ]
  },
  {
   "cell_type": "code",
   "execution_count": 125,
   "metadata": {},
   "outputs": [
    {
     "name": "stdout",
     "output_type": "stream",
     "text": [
      "'a': True\n",
      "'ab': True\n",
      "'abb': True\n",
      "'abbb': True\n",
      "'b': False\n",
      "'abc': False\n",
      "'aab': False\n"
     ]
    }
   ],
   "source": [
    "import re\n",
    "\n",
    "def match_string(s):\n",
    "    pattern = r'^ab*$'\n",
    "    if re.fullmatch(pattern, s):\n",
    "        return True\n",
    "    return False\n",
    "\n",
    "\n",
    "test_strings = [\"a\", \"ab\", \"abb\", \"abbb\", \"b\", \"abc\", \"aab\"]\n",
    "for s in test_strings:\n",
    "    print(f\"'{s}': {match_string(s)}\")\n"
   ]
  },
  {
   "cell_type": "markdown",
   "metadata": {},
   "source": [
    "2. Write a Python program that matches a string that has an `'a'` followed by two to three `'b'`.\n"
   ]
  },
  {
   "cell_type": "code",
   "execution_count": 126,
   "metadata": {},
   "outputs": [
    {
     "name": "stdout",
     "output_type": "stream",
     "text": [
      "'a': False\n",
      "'ab': False\n",
      "'abb': True\n",
      "'abbb': True\n",
      "'b': False\n",
      "'abc': False\n",
      "'aab': False\n"
     ]
    }
   ],
   "source": [
    "\n",
    "def match23_string(s):\n",
    "    pattern = r'^(abb|abbb)'\n",
    "    if re.fullmatch(pattern, s):\n",
    "        return True\n",
    "    return False\n",
    "\n",
    "test_strings = [\"a\", \"ab\", \"abb\", \"abbb\", \"b\", \"abc\", \"aab\"]\n",
    "for s in test_strings:\n",
    "    print(f\"'{s}': {match23_string(s)}\")"
   ]
  },
  {
   "cell_type": "markdown",
   "metadata": {},
   "source": [
    "3. Write a Python program to find sequences of lowercase letters joined with a underscore.\n"
   ]
  },
  {
   "cell_type": "code",
   "execution_count": 127,
   "metadata": {},
   "outputs": [
    {
     "name": "stdout",
     "output_type": "stream",
     "text": [
      "Test 1 passed: ['hello_world', 'this_is_a_test', 'example_test_case']\n",
      "Test 2 passed: []\n",
      "Test 3 passed: ['one_two', 'three_four', 'five_six']\n",
      "Test 4 passed: ['abc_def', 'ghi_jkl']\n",
      "Test 5 passed: []\n",
      "Test 6 passed: ['a_a', 'b_b', 'c_c', 'd_d']\n"
     ]
    }
   ],
   "source": [
    "\n",
    "\n",
    "def low_letters(s):\n",
    "    pattern = r'\\b[a-z]+(?:_[a-z]+)+\\b'\n",
    "    return re.findall(pattern, s)\n",
    "    \n",
    "test_cases = [\n",
    "    \"hello_world this_is_a_test example_test_case\",\n",
    "    \"No_matches_here\",\n",
    "    \"one_two three_four five_six\",\n",
    "    \"test_123 abc_def ghi_jkl!\",\n",
    "    \"___a_b_c___\",\n",
    "    \"a_a b_b c_c d_d\",\n",
    "]   \n",
    "        \n",
    "for i, inputed in enumerate(test_cases, 1):\n",
    "    result = low_letters(inputed)\n",
    "    print(f\"Test {i} passed: {result}\")       "
   ]
  },
  {
   "cell_type": "markdown",
   "metadata": {},
   "source": [
    "4. Write a Python program to find the sequences of one upper case letter followed by lower case letters.\n"
   ]
  },
  {
   "cell_type": "code",
   "execution_count": 128,
   "metadata": {},
   "outputs": [
    {
     "name": "stdout",
     "output_type": "stream",
     "text": [
      "False\n"
     ]
    }
   ],
   "source": [
    "\n",
    "def up_low(s):\n",
    "    pattern = r'\\b[A-Z][a-z]*\\b'\n",
    "    return re.findall(pattern, s)\n",
    "\n",
    "test_input = \"Hello World Python JavaScript Cplusplus Supercalifragilisticexpialidocious AmazingCode ExampleText AnotherTestCase\"\n",
    "print(match_string(test_input))"
   ]
  },
  {
   "cell_type": "markdown",
   "metadata": {},
   "source": [
    "5. Write a Python program that matches a string that has an `'a'` followed by anything, ending in `'b'`.\n"
   ]
  },
  {
   "cell_type": "code",
   "execution_count": 129,
   "metadata": {},
   "outputs": [
    {
     "name": "stdout",
     "output_type": "stream",
     "text": [
      "'acb': True\n",
      "'a123xyzb': True\n",
      "'abcxyz': False\n",
      "'xyzb': False\n",
      "'ab': True\n",
      "'a123xyz': False\n",
      "'a!@#b': True\n",
      "'': False\n",
      "'aLoremIpsumDolorSitAmetb': True\n",
      "'ba': False\n"
     ]
    }
   ],
   "source": [
    "def check_ab(s):\n",
    "    pattern = r'^a.*b$'\n",
    "    if re.fullmatch(pattern, s):\n",
    "        return True\n",
    "    return False\n",
    "\n",
    "test_cases = [\n",
    "    \"acb\",\n",
    "    \"a123xyzb\",\n",
    "    \"abcxyz\",\n",
    "    \"xyzb\",\n",
    "    \"ab\",\n",
    "    \"a123xyz\",\n",
    "    \"a!@#b\",\n",
    "    \"\",\n",
    "    \"aLoremIpsumDolorSitAmetb\",\n",
    "    \"ba\"\n",
    "]\n",
    "for s in test_cases:\n",
    "    print(f\"'{s}': {check_ab(s)}\")"
   ]
  },
  {
   "cell_type": "markdown",
   "metadata": {},
   "source": [
    "6. Write a Python program to replace all occurrences of space, comma, or dot with a colon.\n"
   ]
  },
  {
   "cell_type": "code",
   "execution_count": 130,
   "metadata": {},
   "outputs": [
    {
     "name": "stdout",
     "output_type": "stream",
     "text": [
      "'Hello, World. Python': Hello::World::Python\n",
      "'This is a test': This:is:a:test\n",
      "'One,two.three four': One:two:three:four\n",
      "'NoSpecialCharacters': NoSpecialCharacters\n",
      "' , . ': :::::\n",
      "'Python,Java.C++ Swift': Python:Java:C++:Swift\n",
      "'a b,c.d e,f.g h': a:b:c:d:e:f:g:h\n",
      "'': \n",
      "'.....,,,,     ': ::::::::::::::\n",
      "'Text.with,multiple:punctuation!': Text:with:multiple:punctuation!\n"
     ]
    }
   ],
   "source": [
    "def replace(s):\n",
    "    pattern = r'[\\s|,|.]'\n",
    "    return re.sub(pattern, \":\", s)\n",
    "\n",
    "test_cases = [\n",
    "    \"Hello, World. Python\",  \n",
    "    \"This is a test\",        \n",
    "    \"One,two.three four\",    \n",
    "    \"NoSpecialCharacters\",   \n",
    "    \" , . \",                 \n",
    "    \"Python,Java.C++ Swift\", \n",
    "    \"a b,c.d e,f.g h\",      \n",
    "    \"\",                      \n",
    "    \".....,,,,     \",        \n",
    "    \"Text.with,multiple:punctuation!\", \n",
    "]\n",
    "\n",
    "for s in test_cases:\n",
    "    print(f\"'{s}': {replace(s)}\")"
   ]
  },
  {
   "cell_type": "markdown",
   "metadata": {},
   "source": [
    "7. Write a python program to convert snake case string to camel case string.\n"
   ]
  },
  {
   "cell_type": "code",
   "execution_count": 131,
   "metadata": {},
   "outputs": [
    {
     "name": "stdout",
     "output_type": "stream",
     "text": [
      "'hello_world': helloWorld\n",
      "'convert_this_string': convertThisString\n",
      "'snake_case_to_camel': snakeCaseToCamel\n",
      "'a_b_c': aBC\n",
      "'singleword': singleword\n",
      "'_leading_underscore': LeadingUnderscore\n",
      "'trailing_underscore_': trailingUnderscore_\n",
      "'mix_ed__double__underscores': mixEd_Double_Underscores\n",
      "'': \n",
      "'alreadyCamelCase': alreadyCamelCase\n",
      "'snake_Case_Mixed': snake_Case_Mixed\n"
     ]
    }
   ],
   "source": [
    "def replace(s):\n",
    "    return re.sub(r'_([a-z])', lambda match: match.group(1).upper(), s)\n",
    "\n",
    "\n",
    "test_cases = [\n",
    "    \"hello_world\",\n",
    "    \"convert_this_string\",\n",
    "    \"snake_case_to_camel\",\n",
    "    \"a_b_c\",\n",
    "    \"singleword\",\n",
    "    \"_leading_underscore\",\n",
    "    \"trailing_underscore_\",\n",
    "    \"mix_ed__double__underscores\",\n",
    "    \"\",\n",
    "    \"alreadyCamelCase\",\n",
    "    \"snake_Case_Mixed\",\n",
    "]\n",
    "\n",
    "camel = []\n",
    "for s in test_cases:\n",
    "    print(f\"'{s}': {replace(s)}\")\n",
    "    camel.append(replace(s))"
   ]
  },
  {
   "cell_type": "markdown",
   "metadata": {},
   "source": [
    "8. Write a Python program to split a string at uppercase letters.\n"
   ]
  },
  {
   "cell_type": "code",
   "execution_count": 132,
   "metadata": {},
   "outputs": [
    {
     "name": "stdout",
     "output_type": "stream",
     "text": [
      "'HelloWorld': ['', 'Hello', 'World']\n",
      "'SplitThisString': ['', 'Split', 'This', 'String']\n",
      "'UpperCaseLetters': ['', 'Upper', 'Case', 'Letters']\n",
      "'NoUppercase': ['', 'No', 'Uppercase']\n",
      "'ABC': ['', 'A', 'B', 'C']\n",
      "'testCaseExample': ['test', 'Case', 'Example']\n",
      "'AnotherExampleHere': ['', 'Another', 'Example', 'Here']\n",
      "'UPPERlowerUPPER': ['', 'U', 'P', 'P', 'E', 'Rlower', 'U', 'P', 'P', 'E', 'R']\n",
      "'camelCaseSplit': ['camel', 'Case', 'Split']\n",
      "'': ['']\n",
      "'JustONEUppercase': ['', 'Just', 'O', 'N', 'E', 'Uppercase']\n"
     ]
    }
   ],
   "source": [
    "def split(s):\n",
    "    return re.split(r'(?=[A-Z])', s)\n",
    "\n",
    "\n",
    "test_cases = [\n",
    "    \"HelloWorld\",\n",
    "    \"SplitThisString\",\n",
    "    \"UpperCaseLetters\",\n",
    "    \"NoUppercase\",\n",
    "    \"ABC\",\n",
    "    \"testCaseExample\",\n",
    "    \"AnotherExampleHere\",\n",
    "    \"UPPERlowerUPPER\",\n",
    "    \"camelCaseSplit\",\n",
    "    \"\",\n",
    "    \"JustONEUppercase\"\n",
    "]\n",
    "for s in test_cases:\n",
    "    print(f\"'{s}': {split(s)}\")"
   ]
  },
  {
   "cell_type": "markdown",
   "metadata": {},
   "source": [
    "9. Write a Python program to insert spaces between words starting with capital letters.\n"
   ]
  },
  {
   "cell_type": "code",
   "execution_count": 133,
   "metadata": {},
   "outputs": [
    {
     "name": "stdout",
     "output_type": "stream",
     "text": [
      "'HelloWorld':  Hello World\n",
      "'InsertSpacesHere':  Insert Spaces Here\n",
      "'CamelCaseString':  Camel Case String\n",
      "'NoUppercase':  No Uppercase\n",
      "'ABC':  A B C\n",
      "'testCaseExample': test Case Example\n",
      "'AnotherExampleHere':  Another Example Here\n",
      "'UPPERlowerUPPER':  U P P E Rlower U P P E R\n",
      "'camelCaseSplit': camel Case Split\n",
      "'': \n",
      "'JustONEUppercase':  Just O N E Uppercase\n"
     ]
    }
   ],
   "source": [
    "def space(s):\n",
    "    return re.sub(r'(?=[A-Z])',r' ',s)\n",
    "\n",
    "\n",
    "test_cases = [\n",
    "    \"HelloWorld\",\n",
    "    \"InsertSpacesHere\",\n",
    "    \"CamelCaseString\",\n",
    "    \"NoUppercase\",\n",
    "    \"ABC\",\n",
    "    \"testCaseExample\",\n",
    "    \"AnotherExampleHere\",\n",
    "    \"UPPERlowerUPPER\",\n",
    "    \"camelCaseSplit\",\n",
    "    \"\",\n",
    "    \"JustONEUppercase\"\n",
    "]\n",
    "for s in test_cases:\n",
    "    print(f\"'{s}': {space(s)}\")"
   ]
  },
  {
   "cell_type": "markdown",
   "metadata": {},
   "source": [
    "10. Write a Python program to convert a given camel case string to snake case.\n"
   ]
  },
  {
   "cell_type": "code",
   "execution_count": 147,
   "metadata": {},
   "outputs": [
    {
     "name": "stdout",
     "output_type": "stream",
     "text": [
      "'helloWorld': hello_world\n",
      "'convertThisString': convert_this_string\n",
      "'snakeCaseToCamel': snake_case_to_camel\n",
      "'aBC': a_b_c\n",
      "'singleword': singleword\n",
      "'LeadingUnderscore': leading_underscore\n",
      "'trailingUnderscore_': trailing_underscore\n",
      "'mixEd_Double_Underscores': mix_ed__double__underscores\n",
      "'': \n",
      "'alreadyCamelCase': already_camel_case\n",
      "'snake_Case_Mixed': snake__case__mixed\n"
     ]
    }
   ],
   "source": [
    "def replace(s):\n",
    "    res = re.sub(r'(?=[A-Z])',r'_',s)\n",
    "    res = re.sub(r'([A-Z])', lambda match: match.group(1).lower(), res)\n",
    "    return re.sub(r'^_+|_+$','',res)\n",
    "\n",
    "for s in camel:\n",
    "    print(f\"'{s}': {replace(s)}\")\n"
   ]
  }
 ],
 "metadata": {
  "kernelspec": {
   "display_name": "base",
   "language": "python",
   "name": "python3"
  },
  "language_info": {
   "codemirror_mode": {
    "name": "ipython",
    "version": 3
   },
   "file_extension": ".py",
   "mimetype": "text/x-python",
   "name": "python",
   "nbconvert_exporter": "python",
   "pygments_lexer": "ipython3",
   "version": "3.12.7"
  }
 },
 "nbformat": 4,
 "nbformat_minor": 2
}
